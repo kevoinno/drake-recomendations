{
 "cells": [
  {
   "cell_type": "code",
   "execution_count": 21,
   "metadata": {},
   "outputs": [],
   "source": [
    "import pandas as pd\n",
    "import spotipy\n",
    "from spotipy.oauth2 import SpotifyClientCredentials\n",
    "import lyricsgenius as lg\n",
    "import creds\n",
    "import time\n",
    "import string\n",
    "import re"
   ]
  },
  {
   "cell_type": "code",
   "execution_count": 22,
   "metadata": {},
   "outputs": [],
   "source": [
    "df = pd.read_csv('drake_songs_dataset.csv')\n",
    "df = df.head().copy()"
   ]
  },
  {
   "cell_type": "code",
   "execution_count": 23,
   "metadata": {},
   "outputs": [],
   "source": [
    "df.loc[2, 'track_name'] = 'Jimmy Cooks'"
   ]
  },
  {
   "cell_type": "code",
   "execution_count": 27,
   "metadata": {},
   "outputs": [
    {
     "name": "stdout",
     "output_type": "stream",
     "text": [
      "Searching for songs by Drake...\n",
      "\n",
      "Done. Found 0 songs.\n",
      "Searching for \"MELTDOWN (feat. Drake)\" by Drake...\n",
      "Done.\n",
      "Searching for \"God's Plan\" by Drake...\n",
      "Done.\n",
      "Searching for \"Jimmy Cooks\" by Drake...\n",
      "Done.\n",
      "Searching for \"In My Feelings\" by Drake...\n",
      "Done.\n",
      "Searching for \"Search & Rescue\" by Drake...\n",
      "Done.\n",
      "                              track_uri              track_name  \\\n",
      "0  spotify:track:67nepsnrcZkowTxMWigSbb  MELTDOWN (feat. Drake)   \n",
      "1  spotify:track:6DCZcSspjsKoFjzjrWoCdn              God's Plan   \n",
      "2  spotify:track:3F5CgOj3wFlRv51JsHbxhe             Jimmy Cooks   \n",
      "3  spotify:track:2G7V7zsVDxg1yRsu7Ew9RJ          In My Feelings   \n",
      "4  spotify:track:7aRCf5cLOFN1U7kvtChY1G         Search & Rescue   \n",
      "\n",
      "            album_name  duration_ms  danceability  energy  key  loudness  \\\n",
      "0               UTOPIA       246134         0.557   0.774    7    -5.275   \n",
      "1             Scorpion       198973         0.754   0.449    7    -9.211   \n",
      "2  Honestly, Nevermind       218365         0.529   0.673    0    -4.711   \n",
      "3             Scorpion       217925         0.835   0.626    1    -5.833   \n",
      "4      Search & Rescue       272113         0.817   0.440   10    -8.482   \n",
      "\n",
      "   speechiness  acousticness  ...  valence    tempo  mode            type  \\\n",
      "0       0.3510      0.012000  ...    0.397  111.975     0  audio_features   \n",
      "1       0.1090      0.033200  ...    0.357   77.169     1  audio_features   \n",
      "2       0.1750      0.000307  ...    0.366  165.921     1  audio_features   \n",
      "3       0.1250      0.058900  ...    0.350   91.030     1  audio_features   \n",
      "4       0.0734      0.060300  ...    0.544  142.024     0  audio_features   \n",
      "\n",
      "                       id                                   uri  \\\n",
      "0  67nepsnrcZkowTxMWigSbb  spotify:track:67nepsnrcZkowTxMWigSbb   \n",
      "1  6DCZcSspjsKoFjzjrWoCdn  spotify:track:6DCZcSspjsKoFjzjrWoCdn   \n",
      "2  3F5CgOj3wFlRv51JsHbxhe  spotify:track:3F5CgOj3wFlRv51JsHbxhe   \n",
      "3  2G7V7zsVDxg1yRsu7Ew9RJ  spotify:track:2G7V7zsVDxg1yRsu7Ew9RJ   \n",
      "4  7aRCf5cLOFN1U7kvtChY1G  spotify:track:7aRCf5cLOFN1U7kvtChY1G   \n",
      "\n",
      "                                          track_href  \\\n",
      "0  https://api.spotify.com/v1/tracks/67nepsnrcZko...   \n",
      "1  https://api.spotify.com/v1/tracks/6DCZcSspjsKo...   \n",
      "2  https://api.spotify.com/v1/tracks/3F5CgOj3wFlR...   \n",
      "3  https://api.spotify.com/v1/tracks/2G7V7zsVDxg1...   \n",
      "4  https://api.spotify.com/v1/tracks/7aRCf5cLOFN1...   \n",
      "\n",
      "                                        analysis_url time_signature  \\\n",
      "0  https://api.spotify.com/v1/audio-analysis/67ne...              4   \n",
      "1  https://api.spotify.com/v1/audio-analysis/6DCZ...              4   \n",
      "2  https://api.spotify.com/v1/audio-analysis/3F5C...              4   \n",
      "3  https://api.spotify.com/v1/audio-analysis/2G7V...              4   \n",
      "4  https://api.spotify.com/v1/audio-analysis/7aRC...              4   \n",
      "\n",
      "                                              lyrics  \n",
      "0   Drake Yeah Tensions is definitely rising Td u...  \n",
      "1   And they wishin and wishin And wishin and wis...  \n",
      "2   Drake Just awaken shaken once again so you kn...  \n",
      "3   Drake Trap TrapMoneyBenny This shit got me in...  \n",
      "4   IIm SADPONY Ayy IIm yeah BNYX  Chorus I need ...  \n",
      "\n",
      "[5 rows x 22 columns]\n"
     ]
    }
   ],
   "source": [
    "# Create genius object\n",
    "genius = lg.Genius(access_token = creds.GENIUS_ACCESS_TOKEN)\n",
    "\n",
    "# Set artist to Drake\n",
    "artist = genius.search_artist(\"Drake\", max_songs=0, sort=\"title\")\n",
    "\n",
    "# Get song lyrics for the specific song and add to list of lyrics\n",
    "all_lyrics = []\n",
    "for track in df['track_name']:\n",
    "    song = artist.song(track)\n",
    "    lyrics = song.lyrics\n",
    "    # Removing punctuation and new line\n",
    "    lyrics = lyrics.translate(str.maketrans('', '', string.punctuation))\n",
    "    lyrics = re.sub('\\n', ' ', lyrics) # remove new line characters\n",
    "    lyrics = re.sub(r\"[\\[].*?[\\]]\", \"\", lyrics) # remove everything in []\n",
    "    lyrics = re.sub(r'^.*?Intro', '', lyrics, flags = re.DOTALL)\n",
    "    # remove punctuation from lyrics\n",
    "    all_lyrics.append(lyrics)\n",
    "    time.sleep(3)\n",
    "\n",
    "# Add list of lyrics to dataframe\n",
    "df['lyrics'] = all_lyrics\n",
    "# Export to csv\n",
    "df.to_csv('test_lyrics.csv', index = False)\n",
    "\n",
    "# test reading in df\n",
    "df2 = pd.read_csv('test_lyrics.csv')\n",
    "print(df2.head())"
   ]
  },
  {
   "cell_type": "code",
   "execution_count": 25,
   "metadata": {},
   "outputs": [
    {
     "name": "stdout",
     "output_type": "stream",
     "text": [
      "Searching for \"Jimmy Cooks (feat. 21 Savage)\" by Drake...\n",
      "Done.\n"
     ]
    },
    {
     "data": {
      "text/plain": [
       "\"1 ContributorNew Music Friday 06/17/22 LyricsDrake - Falling Back\\nLil Baby - U-Digg (feat. 42 Dugg & Veeze)\\nFKA twigs - killer\\nSteve Lacy - Mercury\\nChlöe - Surprise\\nChris Brown - Call Me Every Day (feat. WizKid)\\nGucci Mane - First Impression (feat. Quavo & Yung Miami)\\nDrake - Jimmy Cooks (feat. 21 Savage)\\nDiddy - Gotta Move On (feat. Bryson Tiller)\\nJohn Legend - Honey (with Muni Long)\\nChance the Rapper - The Highs & The Lows\\nLeon Bridges - Summer Moon (feat. Kevin Kaarl)\\nSleazyWorld Go - Step 1 (with Offset)\\nKota the Friend - FATHER'S DAY\\nDrake - Sticky\\nBRELAND - Natural\\nFrench Montana - Blue Chills\\nFlo Milli - Conceited\\nKevin Gates - Hard To Sleep\\nTSHA - Giving Up\\nCautious Clay - Puffer\\nLogic - In my lifetime (feat. Action Bronson)\\nCKay - WATAWI (feat. Davido, Focalistic & Abidoza)\\nBlack Eyed Peas - DON'T YOU WORRY\\nSoFaygo - Count Me Out\\nPrecious Pepala - My Eyes Only\\nBartees Strange - Wretched\\nMICHELLE - FOOL 4 U\\nBROCKHAMPTON - Hollywood Swinging\\nLil Mosey - Breathin Again\\nKay Flock - Make A Movie (feat. Fivio Foreign)\\nOverpade - timing !\\nFlying Lotus - The Room\\nRico Nasty - Black Punk\\nJoy Oladokun - That's How God Made Me\\nDJ Frass - Sweet Bounce\\nWizTheMc - Fck Love\\nMoney Man - New York\\nJELEEL! - CLUBHOUSE! (FEAT. MIKE DIMES)\\nAya Nakamura - Méchante\\nBabyface - Keeps On Fallin' (with Ella Mai)\\nSmiley - Rush Hour Freestyle\\nScorey - No Names\\nHotboii - Rich How I'm Dyin\\nSocial House - Bentley Coupe\\nBryce Vine - Nobody\\nErica Banks - Trick\\nBen Harper - We Need To Talk About It\\nbLAck pARty - On My Way\\nILOVEMAKONNEN - ALL MY SHIT IS STUPID 🐚\\nLupe Fiasco - DRILL MUSIC IN ZION\\nAl-Doms - HAHA (feat. Pusha T)\\nBeenie Man - Want Some\\nJAY1 - Mercedes\\nBIG30 - Dead Guyz\\nBig Scarr - Yeah Whoa (feat. Nardo Wick & Gucci Mane)\\nB.o.B - Scenic Route\\nNova Twins - Choose Your Fighter\\nNesta - Jah Knows\\nJada Kingdom - Fling It Back\\nXavier Omär - Tarantino\\nRaury - Heatwave\\nDua Saleh - chosen\\nHit-Boy - CORSA\\nWale the Sage - Family Affair\\nLUCKI - Y NOT?\\nKingna Scott - VA Sway\\nSantigold - Ain’t Ready\\nWESTSIDE BOOGIE - NONCHALANT (feat. Mamii)\\nLakeyah - Record Straight\\nNate Husser - Lil Big\\nKadhja Bonet - JGS\\nBino Rideaux - OUTTA LINE\\nREASON - Is What It Is\\nMaverick City Music - Fear is Not My Future 🐚\\nTyFontaine - By MySelf\\nELHAE - Know\\nRJAE - Like A Ghost (ft. Stunna Gambino)\\nShaboozey - GAS!\\nTempest - Agua\\nLAYA - Sock It 2 Me\\nEgo Ella May - Miss U\\nBenjamin Carter - Black Boys On The Radio\\nHaich Ber Na - St. Leville\\nDellaXOZ - i want, doesn't get\\nRook Monroe - Lightning In A Bottle\\npapichuloteej - Overdrive\\nArk Woods - Oh Yeah\\nYaya Bey - big daddy ya 🕒\\nJames Mantis - NEW SHOES\\nDana Williams - Uncomplicated\\nd0llywood1 - a song about our feelings\\nAmbré - I'm Baby (ft. Jvck James)\\nCoco & Breezy - Just Say\\nTake Van - How'd You Go out Like That\\nEnumclaw - Jimmy Neutron\\nFelix Da Housecat - Go Hard\\nO.N.E The Duo - Stuck in the Middle\\nChastity Brown - GertrudeEmbed\""
      ]
     },
     "execution_count": 25,
     "metadata": {},
     "output_type": "execute_result"
    }
   ],
   "source": [
    "artist.song(\"Jimmy Cooks (feat. 21 Savage)\").lyrics"
   ]
  }
 ],
 "metadata": {
  "kernelspec": {
   "display_name": "venv",
   "language": "python",
   "name": "python3"
  },
  "language_info": {
   "codemirror_mode": {
    "name": "ipython",
    "version": 3
   },
   "file_extension": ".py",
   "mimetype": "text/x-python",
   "name": "python",
   "nbconvert_exporter": "python",
   "pygments_lexer": "ipython3",
   "version": "3.11.4"
  },
  "orig_nbformat": 4
 },
 "nbformat": 4,
 "nbformat_minor": 2
}
