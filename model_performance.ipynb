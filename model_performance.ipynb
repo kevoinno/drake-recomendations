{
 "cells": [
  {
   "cell_type": "code",
   "execution_count": 15,
   "metadata": {},
   "outputs": [],
   "source": [
    "# Import libraries\n",
    "import random\n",
    "import pandas as pd\n",
    "from sklearn.model_selection import train_test_split\n",
    "from recommender import recommender\n",
    "import numpy as np\n",
    "from sklearn.preprocessing import StandardScaler\n",
    "from sklearn.metrics.pairwise import cosine_similarity\n",
    "import spotipy\n",
    "from spotipy.oauth2 import SpotifyClientCredentials\n",
    "import creds  # Import\n",
    "import requests\n",
    "from euclidean_recommender import recommender_euclidean\n",
    "from kmeans_recommender import main\n",
    "from sklearn.cluster import KMeans"
   ]
  },
  {
   "cell_type": "code",
   "execution_count": 16,
   "metadata": {},
   "outputs": [],
   "source": [
    "# Compute the cosine similarity between the input song, and the recommended songs\n",
    "\n",
    "# Compute the cosine similarity between the input song, and songs in the playlist that the recommendation system didn't see\n",
    "\n",
    "# Calculate the average cosine similarity between the input song and other songs in the playlist that the recommendation system didn't see\n",
    "\n",
    "# Compare the average cosine similarties"
   ]
  },
  {
   "cell_type": "markdown",
   "metadata": {},
   "source": [
    "Make sure each recommendation system can generate recs"
   ]
  },
  {
   "cell_type": "code",
   "execution_count": 19,
   "metadata": {},
   "outputs": [],
   "source": [
    "# Import each playlist representing a specific mood\n",
    "drake_sad = pd.read_csv('playlist_1.csv')\n",
    "drake_hype = pd.read_csv('playlist_2.csv')\n",
    "drake_chill = pd.read_csv('playlist_3.csv')\n",
    "drake_romantic = pd.read_csv('playlist_4.csv')\n",
    "drake_party = pd.read_csv('playlist_5.csv')"
   ]
  },
  {
   "cell_type": "code",
   "execution_count": 20,
   "metadata": {},
   "outputs": [],
   "source": [
    "playlist_list = [drake_sad, drake_hype, drake_chill, drake_romantic, drake_party]"
   ]
  },
  {
   "cell_type": "code",
   "execution_count": 27,
   "metadata": {},
   "outputs": [
    {
     "data": {
      "text/plain": [
       "36"
      ]
     },
     "execution_count": 27,
     "metadata": {},
     "output_type": "execute_result"
    }
   ],
   "source": [
    "drake_sad[drake_sad['artist'].str.contains('Drake')].shape[0]"
   ]
  },
  {
   "cell_type": "code",
   "execution_count": 38,
   "metadata": {},
   "outputs": [
    {
     "name": "stdout",
     "output_type": "stream",
     "text": [
      "Rows that contain Drake songs: 36\n",
      "Total rows: 36\n",
      "Rows that contain Drake songs: 120\n",
      "Total rows: 120\n",
      "Rows that contain Drake songs: 220\n",
      "Total rows: 220\n",
      "Rows that contain Drake songs: 279\n",
      "Total rows: 279\n",
      "Rows that contain Drake songs: 348\n",
      "Total rows: 348\n"
     ]
    }
   ],
   "source": [
    "for playlist in playlist_list:\n",
    "    print(f\"Rows that contain Drake songs: {playlist[playlist['artist'].str.contains('Drake')].shape[0]}\")\n",
    "    print(f\"Total rows: {playlist.shape[0]}\")\n"
   ]
  },
  {
   "cell_type": "code",
   "execution_count": 37,
   "metadata": {},
   "outputs": [
    {
     "name": "stdout",
     "output_type": "stream",
     "text": [
      "Rows that contain Drake songs: 36\n",
      "Total rows: 36\n"
     ]
    }
   ],
   "source": []
  },
  {
   "cell_type": "code",
   "execution_count": 5,
   "metadata": {},
   "outputs": [],
   "source": [
    "#Read in dataset containing all drake songs\n",
    "drake_df = pd.read_csv('drake_songs_dataset.csv')\n",
    "\n",
    "#Get desired audio features\n",
    "selected_features = [\n",
    "    'danceability', 'energy', 'key', 'loudness',\n",
    "    'speechiness', 'acousticness', 'instrumentalness', \n",
    "    'liveness', 'valence', 'tempo'\n",
    "]"
   ]
  },
  {
   "cell_type": "code",
   "execution_count": 6,
   "metadata": {},
   "outputs": [],
   "source": [
    "#Function that scales all data before computing cosine similarity matrix\n",
    "def scale_data(input_song, drake_df):\n",
    "    # Making a copy to not alter drake_df\n",
    "    recommender_dataset = drake_df.copy()\n",
    "    \n",
    "    # Removing input song from recommender_dataset so it isn't recommended\n",
    "    recommender_dataset = recommender_dataset[recommender_dataset['track_uri'] != input_song['track_uri']]\n",
    "\n",
    "    #Getting only necessary columns before concat\n",
    "    recommender_dataset = recommender_dataset[selected_features].copy()\n",
    "    input_song = input_song[selected_features].copy().to_frame().T\n",
    "    \n",
    "    #Combining rows for features scaling\n",
    "    all_features = pd.concat([input_song, recommender_dataset])\n",
    "    scaler = StandardScaler()\n",
    "    all_features_scaled = scaler.fit_transform(all_features)\n",
    "\n",
    "    user_features = all_features_scaled[:1, :].copy()\n",
    "    dataset_features = all_features_scaled[1:, :].copy()\n",
    "    \n",
    "    return user_features, dataset_features\n",
    "    \n",
    "        "
   ]
  },
  {
   "cell_type": "code",
   "execution_count": 7,
   "metadata": {},
   "outputs": [],
   "source": [
    "# Function that runs the recommendation system using cosine similarity\n",
    "def make_recs_cosine(input_song_index, playlist_df, drake_df):\n",
    "    #Keeps all columns so that we can extract the recommended song names and artists later\n",
    "    df_all_cols = drake_df.copy()\n",
    "\n",
    "    # Get the input song that we will make recommendations from\n",
    "    input_song = playlist_df.iloc[input_song_index]\n",
    "\n",
    "    #Remove the user's inputted track from original dataset so it isn't recommended later on\n",
    "    drake_df =  drake_df[drake_df['track_uri'] != input_song['track_uri']]\n",
    "\n",
    "    #Scale data\n",
    "    user_features, dataset_features = scale_data(input_song, drake_df)\n",
    "\n",
    "    # Recommending system\n",
    "    return recommender(user_features, dataset_features, df_all_cols, 5)\n",
    "    "
   ]
  },
  {
   "cell_type": "code",
   "execution_count": 8,
   "metadata": {},
   "outputs": [],
   "source": [
    "# Function that runs the recommendation system using Euclidean Distance\n",
    "def make_recs_euclidean(input_song_index, playlist_df, drake_df):\n",
    "    #Keeps all columns so that we can extract the recommended song names and artists later\n",
    "    df_all_cols = drake_df.copy()\n",
    "\n",
    "    # Get the input song that we will make recommendations from\n",
    "    input_song = playlist_df.iloc[input_song_index]\n",
    "\n",
    "    #Remove the user's inputted track from original dataset so it isn't recommended later on\n",
    "    drake_df =  drake_df[drake_df['track_uri'] != input_song['track_uri']]\n",
    "\n",
    "    #Scale data\n",
    "    user_features, dataset_features = scale_data(input_song, drake_df)\n",
    "\n",
    "    # Recommending system\n",
    "    return recommender_euclidean(user_features, dataset_features, df_all_cols, 5)\n",
    "    "
   ]
  },
  {
   "cell_type": "code",
   "execution_count": 9,
   "metadata": {},
   "outputs": [],
   "source": [
    "# Function that runs recommendation system using KMeans\n",
    "def make_recs_kmeans(input_song_index, playlist_df, df):\n",
    "\n",
    "    # Scale data\n",
    "    scaler = StandardScaler()\n",
    "    scaled_features = scaler.fit_transform(df[selected_features])\n",
    "\n",
    "    # Perform KMeans\n",
    "    num_clusters = 5\n",
    "    kmeans = KMeans(n_clusters = num_clusters, random_state = 42, n_init = 10)\n",
    "    kmeans.fit(scaled_features)\n",
    "\n",
    "    # Identify the cluster to which the target song belongs\n",
    "    target_song_features = scaled_features[input_song_index]  # Replace target_song_index with the index of your target song\n",
    "    target_song_cluster = kmeans.predict([target_song_features])[0]\n",
    "   \n",
    "    # Find songs in the same cluster as the target song\n",
    "    playlist_df['cluster'] = kmeans.labels_\n",
    "    \n",
    "    songs_in_same_cluster = playlist_df[playlist_df['cluster'] == target_song_cluster]\n",
    "\n",
    "    # Now you can recommend songs from the same cluster\n",
    "    recommended_songs = songs_in_same_cluster.sample(n=5, replace = True)\n",
    "    recommended_songs = recommended_songs.drop_duplicates()\n",
    "    return recommended_songs\n",
    "    "
   ]
  },
  {
   "cell_type": "code",
   "execution_count": 10,
   "metadata": {},
   "outputs": [],
   "source": [
    "from statistics import mean\n",
    "from numpy import mean"
   ]
  },
  {
   "cell_type": "code",
   "execution_count": 11,
   "metadata": {},
   "outputs": [],
   "source": [
    "def evaluate_recommendations(model, playlist_list, is_kmeans):\n",
    "    all_similarity_unseen_total = []  # Accumulator for all playlists\n",
    "    all_similarity_recs_total = []    # Accumulator for all playlists\n",
    "    \n",
    "    for i, playlist in enumerate(playlist_list):\n",
    "        # Split the data into input songs and songs that won't be seen\n",
    "        input_group, unseen_group = train_test_split(playlist, test_size=0.3, random_state=42)\n",
    "\n",
    "        # Initialize empty np arrays that will hold the cosine similarity scores\n",
    "        all_similarity_unseen = []\n",
    "        all_similarity_recs = []\n",
    "\n",
    "        # Loop through all songs in the input_group\n",
    "        for input_song_index, input_song in input_group.iterrows():\n",
    "            # Make recommendations with the model we are testing\n",
    "            if is_kmeans:\n",
    "                recs = model(input_song_index, drake_df, drake_df)\n",
    "            else:\n",
    "                recs = model(input_song_index, playlist, drake_df)\n",
    "\n",
    "            # Extract audio features from input song, unseen group, and recommended songs\n",
    "            input_features = input_song[selected_features].values.reshape(1, -1)\n",
    "            unseen_group_features = unseen_group[selected_features].values\n",
    "            recs_features = recs[selected_features].values\n",
    "\n",
    "            # Calculate cosine similarities\n",
    "            similarities_unseen = cosine_similarity(input_features, unseen_group_features).flatten().tolist()\n",
    "            all_similarity_unseen += similarities_unseen\n",
    "            \n",
    "            similarities_recs = cosine_similarity(input_features, recs_features).flatten().tolist()\n",
    "            all_similarity_recs += similarities_recs\n",
    "\n",
    "        # Calculate the average cosine similarity for the current playlist\n",
    "        avg_similarity_unseen = mean(all_similarity_unseen)\n",
    "        avg_similarity_recs = mean(all_similarity_recs)\n",
    "        \n",
    "        # Accumulate the results for all playlists\n",
    "        all_similarity_unseen_total.append(avg_similarity_unseen)\n",
    "        all_similarity_recs_total.append(avg_similarity_recs)\n",
    "\n",
    "        # Print the results for the current playlist\n",
    "        print(f\"Playlist {i + 1}\")\n",
    "        print(f\"Average Cosine Similarity between input and unseen songs: {avg_similarity_unseen}\")\n",
    "        print(f\"Average Cosine Similarity between input and recommended songs: {avg_similarity_recs}\")\n",
    "        print()\n",
    "\n",
    "    # Calculate the overall average cosine similarity across all playlists\n",
    "    overall_avg_similarity_unseen = mean(all_similarity_unseen_total)\n",
    "    overall_avg_similarity_recs = mean(all_similarity_recs_total)\n",
    "    \n",
    "    print(\"Overall Results\")\n",
    "    print(f\"Overall Average Cosine Similarity between input and unseen songs: {overall_avg_similarity_unseen}\")\n",
    "    print(f\"Overall Average Cosine Similarity between input and recommended songs: {overall_avg_similarity_recs}\")\n"
   ]
  },
  {
   "cell_type": "code",
   "execution_count": 12,
   "metadata": {},
   "outputs": [
    {
     "name": "stdout",
     "output_type": "stream",
     "text": [
      "Playlist 1\n",
      "Average Cosine Similarity between input and unseen songs: 0.996459396774986\n",
      "Average Cosine Similarity between input and recommended songs: 0.9986536613504886\n",
      "\n"
     ]
    },
    {
     "name": "stdout",
     "output_type": "stream",
     "text": [
      "Playlist 2\n",
      "Average Cosine Similarity between input and unseen songs: 0.9976324246799106\n",
      "Average Cosine Similarity between input and recommended songs: 0.9989942539172595\n",
      "\n",
      "Playlist 3\n",
      "Average Cosine Similarity between input and unseen songs: 0.9973879816082651\n",
      "Average Cosine Similarity between input and recommended songs: 0.9988567507036757\n",
      "\n",
      "Playlist 4\n",
      "Average Cosine Similarity between input and unseen songs: 0.99738304909688\n",
      "Average Cosine Similarity between input and recommended songs: 0.9986885746103663\n",
      "\n",
      "Playlist 5\n",
      "Average Cosine Similarity between input and unseen songs: 0.9974868629854471\n",
      "Average Cosine Similarity between input and recommended songs: 0.9988241912974557\n",
      "\n",
      "Overall Results\n",
      "Overall Average Cosine Similarity between input and unseen songs: 0.9972699430290979\n",
      "Overall Average Cosine Similarity between input and recommended songs: 0.9988034863758491\n"
     ]
    }
   ],
   "source": [
    "evaluate_recommendations(make_recs_cosine, playlist_list, False)"
   ]
  },
  {
   "cell_type": "code",
   "execution_count": 13,
   "metadata": {},
   "outputs": [
    {
     "name": "stdout",
     "output_type": "stream",
     "text": [
      "Playlist 1\n",
      "Average Cosine Similarity between input and unseen songs: 0.996459396774986\n",
      "Average Cosine Similarity between input and recommended songs: 0.9986046087791616\n",
      "\n",
      "Playlist 2\n",
      "Average Cosine Similarity between input and unseen songs: 0.9976324246799106\n",
      "Average Cosine Similarity between input and recommended songs: 0.9990324918504367\n",
      "\n",
      "Playlist 3\n",
      "Average Cosine Similarity between input and unseen songs: 0.9973879816082651\n",
      "Average Cosine Similarity between input and recommended songs: 0.998880423912085\n",
      "\n",
      "Playlist 4\n",
      "Average Cosine Similarity between input and unseen songs: 0.99738304909688\n",
      "Average Cosine Similarity between input and recommended songs: 0.998713889827439\n",
      "\n",
      "Playlist 5\n",
      "Average Cosine Similarity between input and unseen songs: 0.9974868629854471\n",
      "Average Cosine Similarity between input and recommended songs: 0.9988496604159658\n",
      "\n",
      "Overall Results\n",
      "Overall Average Cosine Similarity between input and unseen songs: 0.9972699430290979\n",
      "Overall Average Cosine Similarity between input and recommended songs: 0.9988162149570176\n"
     ]
    }
   ],
   "source": [
    "evaluate_recommendations(make_recs_euclidean, playlist_list, False)"
   ]
  },
  {
   "cell_type": "code",
   "execution_count": 14,
   "metadata": {},
   "outputs": [
    {
     "name": "stdout",
     "output_type": "stream",
     "text": [
      "Playlist 1\n",
      "Average Cosine Similarity between input and unseen songs: 0.996459396774986\n",
      "Average Cosine Similarity between input and recommended songs: 0.9974527752341593\n",
      "\n",
      "Playlist 2\n",
      "Average Cosine Similarity between input and unseen songs: 0.9976324246799106\n",
      "Average Cosine Similarity between input and recommended songs: 0.9977138245181268\n",
      "\n",
      "Playlist 3\n",
      "Average Cosine Similarity between input and unseen songs: 0.9973879816082651\n",
      "Average Cosine Similarity between input and recommended songs: 0.9976694866697086\n",
      "\n",
      "Playlist 4\n",
      "Average Cosine Similarity between input and unseen songs: 0.99738304909688\n",
      "Average Cosine Similarity between input and recommended songs: 0.9974997429117303\n",
      "\n"
     ]
    },
    {
     "ename": "IndexError",
     "evalue": "index 340 is out of bounds for axis 0 with size 295",
     "output_type": "error",
     "traceback": [
      "\u001b[1;31m---------------------------------------------------------------------------\u001b[0m",
      "\u001b[1;31mIndexError\u001b[0m                                Traceback (most recent call last)",
      "Cell \u001b[1;32mIn[14], line 1\u001b[0m\n\u001b[1;32m----> 1\u001b[0m evaluate_recommendations(make_recs_kmeans, playlist_list, \u001b[39mTrue\u001b[39;49;00m)\n",
      "Cell \u001b[1;32mIn[11], line 17\u001b[0m, in \u001b[0;36mevaluate_recommendations\u001b[1;34m(model, playlist_list, is_kmeans)\u001b[0m\n\u001b[0;32m     14\u001b[0m \u001b[39mfor\u001b[39;00m input_song_index, input_song \u001b[39min\u001b[39;00m input_group\u001b[39m.\u001b[39miterrows():\n\u001b[0;32m     15\u001b[0m     \u001b[39m# Make recommendations with the model we are testing\u001b[39;00m\n\u001b[0;32m     16\u001b[0m     \u001b[39mif\u001b[39;00m is_kmeans:\n\u001b[1;32m---> 17\u001b[0m         recs \u001b[39m=\u001b[39m model(input_song_index, drake_df, drake_df)\n\u001b[0;32m     18\u001b[0m     \u001b[39melse\u001b[39;00m:\n\u001b[0;32m     19\u001b[0m         recs \u001b[39m=\u001b[39m model(input_song_index, playlist, drake_df)\n",
      "Cell \u001b[1;32mIn[9], line 14\u001b[0m, in \u001b[0;36mmake_recs_kmeans\u001b[1;34m(input_song_index, playlist_df, df)\u001b[0m\n\u001b[0;32m     11\u001b[0m kmeans\u001b[39m.\u001b[39mfit(scaled_features)\n\u001b[0;32m     13\u001b[0m \u001b[39m# Identify the cluster to which the target song belongs\u001b[39;00m\n\u001b[1;32m---> 14\u001b[0m target_song_features \u001b[39m=\u001b[39m scaled_features[input_song_index]  \u001b[39m# Replace target_song_index with the index of your target song\u001b[39;00m\n\u001b[0;32m     15\u001b[0m target_song_cluster \u001b[39m=\u001b[39m kmeans\u001b[39m.\u001b[39mpredict([target_song_features])[\u001b[39m0\u001b[39m]\n\u001b[0;32m     17\u001b[0m \u001b[39m# Find songs in the same cluster as the target song\u001b[39;00m\n",
      "\u001b[1;31mIndexError\u001b[0m: index 340 is out of bounds for axis 0 with size 295"
     ]
    }
   ],
   "source": [
    "evaluate_recommendations(make_recs_kmeans, playlist_list, True)"
   ]
  },
  {
   "cell_type": "code",
   "execution_count": null,
   "metadata": {},
   "outputs": [],
   "source": []
  }
 ],
 "metadata": {
  "kernelspec": {
   "display_name": "venv",
   "language": "python",
   "name": "python3"
  },
  "language_info": {
   "codemirror_mode": {
    "name": "ipython",
    "version": 3
   },
   "file_extension": ".py",
   "mimetype": "text/x-python",
   "name": "python",
   "nbconvert_exporter": "python",
   "pygments_lexer": "ipython3",
   "version": "3.11.4"
  },
  "orig_nbformat": 4
 },
 "nbformat": 4,
 "nbformat_minor": 2
}
