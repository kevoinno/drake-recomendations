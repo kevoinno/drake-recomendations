{
 "cells": [
  {
   "cell_type": "code",
   "execution_count": 3,
   "metadata": {},
   "outputs": [],
   "source": [
    "# Import libaries\n",
    "import pandas as pd\n",
    "import numpy as np\n",
    "import spotipy\n",
    "from spotipy.oauth2 import SpotifyClientCredentials\n",
    "import creds\n",
    "from sklearn.metrics.pairwise import cosine_similarity\n",
    "from sklearn.preprocessing import StandardScaler\n",
    "from recommender_v2 import cosine_recs"
   ]
  },
  {
   "cell_type": "code",
   "execution_count": 4,
   "metadata": {},
   "outputs": [],
   "source": [
    "df = pd.read_csv('drake_songs_dataset.csv')\n",
    "drake_sad = pd.read_csv('playlist_1.csv')\n",
    "drake_hype = pd.read_csv('playlist_2.csv')\n",
    "drake_chill = pd.read_csv('playlist_3.csv')\n",
    "drake_romantic = pd.read_csv('playlist_4.csv')\n",
    "drake_party = pd.read_csv('playlist_5.csv')"
   ]
  },
  {
   "cell_type": "code",
   "execution_count": 5,
   "metadata": {},
   "outputs": [],
   "source": [
    "features = [\n",
    "        'danceability', 'energy', 'key', 'loudness',\n",
    "        'speechiness', 'acousticness', 'instrumentalness', \n",
    "        'liveness', 'valence', 'tempo'\n",
    "    ]"
   ]
  },
  {
   "cell_type": "code",
   "execution_count": 6,
   "metadata": {},
   "outputs": [],
   "source": [
    "def test_recs(sample_df, drake_df, features, model):\n",
    "    # Randomly sample songs that will be input songs\n",
    "    \n",
    "    sample = sample_df.sample(n = 5, replace = False, random_state = 42)\n",
    "\n",
    "    # Create output songs \n",
    "    recs = pd.DataFrame(columns = features)\n",
    "\n",
    "    # Iterate through input songs and generate predictions\n",
    "    for track in sample.iterrows():\n",
    "        recs = pd.concat([recs, model(drake_df, features, 5, track[1]['track_name'])])\n",
    "\n",
    "    # Get relevant columns and scale sample\n",
    "    sample_features = sample[features].copy()\n",
    "    scaler = StandardScaler()\n",
    "    sample_scaled = scaler.fit_transform(sample_features)\n",
    "\n",
    "    # Get relevant columsn and scale recs\n",
    "    recs_features = recs[features].copy()\n",
    "    recs_scaled = scaler.fit_transform(recs_features)\n",
    "\n",
    "    # Calculate cosine similiarity between input songs\n",
    "    input_input_matrix = cosine_similarity(sample_scaled, sample_scaled)\n",
    "\n",
    "    # Calculate cosine similarity between output songs\n",
    "    output_output_matrix = cosine_similarity(recs_scaled, recs_scaled)\n",
    "\n",
    "    # Calculate cosine similarity matrix between input and output songs\n",
    "    input_output_matrix = cosine_similarity(sample_scaled, recs_scaled)\n",
    "    \n",
    "    print(f\"Intra-set input mean cosine similarity score: {input_input_matrix.mean()}\")\n",
    "    print(f\"Intra-set output mean cosine similarity score: {output_output_matrix.mean()}\")\n",
    "    print(f\"Inter-set mean cosine similarity score: {input_output_matrix.mean()}\")\n",
    "    print()\n"
   ]
  },
  {
   "cell_type": "code",
   "execution_count": 7,
   "metadata": {},
   "outputs": [
    {
     "name": "stdout",
     "output_type": "stream",
     "text": [
      "Intra-set input mean cosine similarity score: 0.011152838912495718\n",
      "Intra-set output mean cosine similarity score: 0.004023213175871815\n",
      "Inter-set mean cosine similarity score: 0.001634286504202988\n",
      "\n",
      "Intra-set input mean cosine similarity score: 0.0027226340513302636\n",
      "Intra-set output mean cosine similarity score: 0.0029663539858326153\n",
      "Inter-set mean cosine similarity score: 0.0015240641152663651\n",
      "\n",
      "Intra-set input mean cosine similarity score: 0.026372956813497474\n",
      "Intra-set output mean cosine similarity score: 0.016041163798904072\n",
      "Inter-set mean cosine similarity score: 0.015835787294824537\n",
      "\n",
      "Intra-set input mean cosine similarity score: 0.012229733811916735\n",
      "Intra-set output mean cosine similarity score: 0.02093804593703681\n",
      "Inter-set mean cosine similarity score: 0.000763592212767629\n",
      "\n",
      "Intra-set input mean cosine similarity score: 0.005188541587319779\n",
      "Intra-set output mean cosine similarity score: 0.002077745545356347\n",
      "Inter-set mean cosine similarity score: 0.0015611089828459935\n",
      "\n"
     ]
    }
   ],
   "source": [
    "mood_list = [drake_sad, drake_hype, drake_chill, drake_romantic, drake_party]\n",
    "\n",
    "for mood in mood_list:\n",
    "    test_recs(mood, df, features, cosine_recs)\n"
   ]
  },
  {
   "cell_type": "code",
   "execution_count": 51,
   "metadata": {},
   "outputs": [],
   "source": [
    "def test_recs_v2(sample_df, drake_df, features, model):\n",
    "    # Randomly sample songs that will be input songs\n",
    "    \n",
    "    sample = sample_df.sample(n = 5, replace = False, random_state = 42)\n",
    "\n",
    "    # Get relevant columns and scale sample\n",
    "    sample_features = sample[features].copy()\n",
    "    scaler = StandardScaler()\n",
    "    sample_scaled = scaler.fit_transform(sample_features)\n",
    "\n",
    "    # Iterate through input songs and generate predictions\n",
    "    for i, track in enumerate(sample.iterrows()):\n",
    "        # Generate recommendations based on the ith sampled track\n",
    "        recs = model(drake_df, features, 5, track[1]['track_name'])\n",
    "        # Get relevant columsn and scale recs\n",
    "        recs_features = recs[features].copy()\n",
    "        recs_scaled = scaler.fit_transform(recs_features)\n",
    "        # Calculate cosine similarity matrix between input song and recs\n",
    "        cos_matrix = cosine_similarity(sample_scaled[i], recs_scaled)\n",
    "        print(cos_matrix)\n",
    "\n",
    "\n",
    "    "
   ]
  },
  {
   "cell_type": "code",
   "execution_count": 52,
   "metadata": {},
   "outputs": [
    {
     "ename": "ValueError",
     "evalue": "Expected 2D array, got 1D array instead:\narray=[ 0.9888386  -0.35559537  1.56495178  0.28660687 -0.80025479 -1.2318547\n -0.4165305   0.99070417  0.97230284  0.64573697].\nReshape your data either using array.reshape(-1, 1) if your data has a single feature or array.reshape(1, -1) if it contains a single sample.",
     "output_type": "error",
     "traceback": [
      "\u001b[1;31m---------------------------------------------------------------------------\u001b[0m",
      "\u001b[1;31mValueError\u001b[0m                                Traceback (most recent call last)",
      "\u001b[1;32mc:\\Users\\kevoi\\OneDrive\\Desktop\\Coding\\ds-projects\\spotify-recs\\test_recommendation_system.ipynb Cell 7\u001b[0m line \u001b[0;36m1\n\u001b[1;32m----> <a href='vscode-notebook-cell:/c%3A/Users/kevoi/OneDrive/Desktop/Coding/ds-projects/spotify-recs/test_recommendation_system.ipynb#W6sZmlsZQ%3D%3D?line=0'>1</a>\u001b[0m test_recs_v2(drake_sad, df, features, cosine_recs)\n",
      "\u001b[1;32mc:\\Users\\kevoi\\OneDrive\\Desktop\\Coding\\ds-projects\\spotify-recs\\test_recommendation_system.ipynb Cell 7\u001b[0m line \u001b[0;36m1\n\u001b[0;32m     <a href='vscode-notebook-cell:/c%3A/Users/kevoi/OneDrive/Desktop/Coding/ds-projects/spotify-recs/test_recommendation_system.ipynb#W6sZmlsZQ%3D%3D?line=16'>17</a>\u001b[0m recs_scaled \u001b[39m=\u001b[39m scaler\u001b[39m.\u001b[39mfit_transform(recs_features)\n\u001b[0;32m     <a href='vscode-notebook-cell:/c%3A/Users/kevoi/OneDrive/Desktop/Coding/ds-projects/spotify-recs/test_recommendation_system.ipynb#W6sZmlsZQ%3D%3D?line=17'>18</a>\u001b[0m \u001b[39m# Calculate cosine similarity matrix between input song and recs\u001b[39;00m\n\u001b[1;32m---> <a href='vscode-notebook-cell:/c%3A/Users/kevoi/OneDrive/Desktop/Coding/ds-projects/spotify-recs/test_recommendation_system.ipynb#W6sZmlsZQ%3D%3D?line=18'>19</a>\u001b[0m cos_matrix \u001b[39m=\u001b[39m cosine_similarity(sample_scaled[i], recs_scaled)\n\u001b[0;32m     <a href='vscode-notebook-cell:/c%3A/Users/kevoi/OneDrive/Desktop/Coding/ds-projects/spotify-recs/test_recommendation_system.ipynb#W6sZmlsZQ%3D%3D?line=19'>20</a>\u001b[0m \u001b[39mprint\u001b[39m(cos_matrix)\n",
      "File \u001b[1;32mc:\\Users\\kevoi\\OneDrive\\Desktop\\Coding\\ds-projects\\spotify-recs\\venv\\Lib\\site-packages\\sklearn\\utils\\_param_validation.py:211\u001b[0m, in \u001b[0;36mvalidate_params.<locals>.decorator.<locals>.wrapper\u001b[1;34m(*args, **kwargs)\u001b[0m\n\u001b[0;32m    205\u001b[0m \u001b[39mtry\u001b[39;00m:\n\u001b[0;32m    206\u001b[0m     \u001b[39mwith\u001b[39;00m config_context(\n\u001b[0;32m    207\u001b[0m         skip_parameter_validation\u001b[39m=\u001b[39m(\n\u001b[0;32m    208\u001b[0m             prefer_skip_nested_validation \u001b[39mor\u001b[39;00m global_skip_validation\n\u001b[0;32m    209\u001b[0m         )\n\u001b[0;32m    210\u001b[0m     ):\n\u001b[1;32m--> 211\u001b[0m         \u001b[39mreturn\u001b[39;00m func(\u001b[39m*\u001b[39;49margs, \u001b[39m*\u001b[39;49m\u001b[39m*\u001b[39;49mkwargs)\n\u001b[0;32m    212\u001b[0m \u001b[39mexcept\u001b[39;00m InvalidParameterError \u001b[39mas\u001b[39;00m e:\n\u001b[0;32m    213\u001b[0m     \u001b[39m# When the function is just a wrapper around an estimator, we allow\u001b[39;00m\n\u001b[0;32m    214\u001b[0m     \u001b[39m# the function to delegate validation to the estimator, but we replace\u001b[39;00m\n\u001b[0;32m    215\u001b[0m     \u001b[39m# the name of the estimator by the name of the function in the error\u001b[39;00m\n\u001b[0;32m    216\u001b[0m     \u001b[39m# message to avoid confusion.\u001b[39;00m\n\u001b[0;32m    217\u001b[0m     msg \u001b[39m=\u001b[39m re\u001b[39m.\u001b[39msub(\n\u001b[0;32m    218\u001b[0m         \u001b[39mr\u001b[39m\u001b[39m\"\u001b[39m\u001b[39mparameter of \u001b[39m\u001b[39m\\\u001b[39m\u001b[39mw+ must be\u001b[39m\u001b[39m\"\u001b[39m,\n\u001b[0;32m    219\u001b[0m         \u001b[39mf\u001b[39m\u001b[39m\"\u001b[39m\u001b[39mparameter of \u001b[39m\u001b[39m{\u001b[39;00mfunc\u001b[39m.\u001b[39m\u001b[39m__qualname__\u001b[39m\u001b[39m}\u001b[39;00m\u001b[39m must be\u001b[39m\u001b[39m\"\u001b[39m,\n\u001b[0;32m    220\u001b[0m         \u001b[39mstr\u001b[39m(e),\n\u001b[0;32m    221\u001b[0m     )\n",
      "File \u001b[1;32mc:\\Users\\kevoi\\OneDrive\\Desktop\\Coding\\ds-projects\\spotify-recs\\venv\\Lib\\site-packages\\sklearn\\metrics\\pairwise.py:1577\u001b[0m, in \u001b[0;36mcosine_similarity\u001b[1;34m(X, Y, dense_output)\u001b[0m\n\u001b[0;32m   1542\u001b[0m \u001b[39m\u001b[39m\u001b[39m\"\"\"Compute cosine similarity between samples in X and Y.\u001b[39;00m\n\u001b[0;32m   1543\u001b[0m \n\u001b[0;32m   1544\u001b[0m \u001b[39mCosine similarity, or the cosine kernel, computes similarity as the\u001b[39;00m\n\u001b[1;32m   (...)\u001b[0m\n\u001b[0;32m   1573\u001b[0m \u001b[39m    Returns the cosine similarity between samples in X and Y.\u001b[39;00m\n\u001b[0;32m   1574\u001b[0m \u001b[39m\"\"\"\u001b[39;00m\n\u001b[0;32m   1575\u001b[0m \u001b[39m# to avoid recursive import\u001b[39;00m\n\u001b[1;32m-> 1577\u001b[0m X, Y \u001b[39m=\u001b[39m check_pairwise_arrays(X, Y)\n\u001b[0;32m   1579\u001b[0m X_normalized \u001b[39m=\u001b[39m normalize(X, copy\u001b[39m=\u001b[39m\u001b[39mTrue\u001b[39;00m)\n\u001b[0;32m   1580\u001b[0m \u001b[39mif\u001b[39;00m X \u001b[39mis\u001b[39;00m Y:\n",
      "File \u001b[1;32mc:\\Users\\kevoi\\OneDrive\\Desktop\\Coding\\ds-projects\\spotify-recs\\venv\\Lib\\site-packages\\sklearn\\metrics\\pairwise.py:165\u001b[0m, in \u001b[0;36mcheck_pairwise_arrays\u001b[1;34m(X, Y, precomputed, dtype, accept_sparse, force_all_finite, copy)\u001b[0m\n\u001b[0;32m    156\u001b[0m     X \u001b[39m=\u001b[39m Y \u001b[39m=\u001b[39m check_array(\n\u001b[0;32m    157\u001b[0m         X,\n\u001b[0;32m    158\u001b[0m         accept_sparse\u001b[39m=\u001b[39maccept_sparse,\n\u001b[1;32m   (...)\u001b[0m\n\u001b[0;32m    162\u001b[0m         estimator\u001b[39m=\u001b[39mestimator,\n\u001b[0;32m    163\u001b[0m     )\n\u001b[0;32m    164\u001b[0m \u001b[39melse\u001b[39;00m:\n\u001b[1;32m--> 165\u001b[0m     X \u001b[39m=\u001b[39m check_array(\n\u001b[0;32m    166\u001b[0m         X,\n\u001b[0;32m    167\u001b[0m         accept_sparse\u001b[39m=\u001b[39;49maccept_sparse,\n\u001b[0;32m    168\u001b[0m         dtype\u001b[39m=\u001b[39;49mdtype,\n\u001b[0;32m    169\u001b[0m         copy\u001b[39m=\u001b[39;49mcopy,\n\u001b[0;32m    170\u001b[0m         force_all_finite\u001b[39m=\u001b[39;49mforce_all_finite,\n\u001b[0;32m    171\u001b[0m         estimator\u001b[39m=\u001b[39;49mestimator,\n\u001b[0;32m    172\u001b[0m     )\n\u001b[0;32m    173\u001b[0m     Y \u001b[39m=\u001b[39m check_array(\n\u001b[0;32m    174\u001b[0m         Y,\n\u001b[0;32m    175\u001b[0m         accept_sparse\u001b[39m=\u001b[39maccept_sparse,\n\u001b[1;32m   (...)\u001b[0m\n\u001b[0;32m    179\u001b[0m         estimator\u001b[39m=\u001b[39mestimator,\n\u001b[0;32m    180\u001b[0m     )\n\u001b[0;32m    182\u001b[0m \u001b[39mif\u001b[39;00m precomputed:\n",
      "File \u001b[1;32mc:\\Users\\kevoi\\OneDrive\\Desktop\\Coding\\ds-projects\\spotify-recs\\venv\\Lib\\site-packages\\sklearn\\utils\\validation.py:940\u001b[0m, in \u001b[0;36mcheck_array\u001b[1;34m(array, accept_sparse, accept_large_sparse, dtype, order, copy, force_all_finite, ensure_2d, allow_nd, ensure_min_samples, ensure_min_features, estimator, input_name)\u001b[0m\n\u001b[0;32m    938\u001b[0m     \u001b[39m# If input is 1D raise error\u001b[39;00m\n\u001b[0;32m    939\u001b[0m     \u001b[39mif\u001b[39;00m array\u001b[39m.\u001b[39mndim \u001b[39m==\u001b[39m \u001b[39m1\u001b[39m:\n\u001b[1;32m--> 940\u001b[0m         \u001b[39mraise\u001b[39;00m \u001b[39mValueError\u001b[39;00m(\n\u001b[0;32m    941\u001b[0m             \u001b[39m\"\u001b[39m\u001b[39mExpected 2D array, got 1D array instead:\u001b[39m\u001b[39m\\n\u001b[39;00m\u001b[39marray=\u001b[39m\u001b[39m{}\u001b[39;00m\u001b[39m.\u001b[39m\u001b[39m\\n\u001b[39;00m\u001b[39m\"\u001b[39m\n\u001b[0;32m    942\u001b[0m             \u001b[39m\"\u001b[39m\u001b[39mReshape your data either using array.reshape(-1, 1) if \u001b[39m\u001b[39m\"\u001b[39m\n\u001b[0;32m    943\u001b[0m             \u001b[39m\"\u001b[39m\u001b[39myour data has a single feature or array.reshape(1, -1) \u001b[39m\u001b[39m\"\u001b[39m\n\u001b[0;32m    944\u001b[0m             \u001b[39m\"\u001b[39m\u001b[39mif it contains a single sample.\u001b[39m\u001b[39m\"\u001b[39m\u001b[39m.\u001b[39mformat(array)\n\u001b[0;32m    945\u001b[0m         )\n\u001b[0;32m    947\u001b[0m \u001b[39mif\u001b[39;00m dtype_numeric \u001b[39mand\u001b[39;00m \u001b[39mhasattr\u001b[39m(array\u001b[39m.\u001b[39mdtype, \u001b[39m\"\u001b[39m\u001b[39mkind\u001b[39m\u001b[39m\"\u001b[39m) \u001b[39mand\u001b[39;00m array\u001b[39m.\u001b[39mdtype\u001b[39m.\u001b[39mkind \u001b[39min\u001b[39;00m \u001b[39m\"\u001b[39m\u001b[39mUSV\u001b[39m\u001b[39m\"\u001b[39m:\n\u001b[0;32m    948\u001b[0m     \u001b[39mraise\u001b[39;00m \u001b[39mValueError\u001b[39;00m(\n\u001b[0;32m    949\u001b[0m         \u001b[39m\"\u001b[39m\u001b[39mdtype=\u001b[39m\u001b[39m'\u001b[39m\u001b[39mnumeric\u001b[39m\u001b[39m'\u001b[39m\u001b[39m is not compatible with arrays of bytes/strings.\u001b[39m\u001b[39m\"\u001b[39m\n\u001b[0;32m    950\u001b[0m         \u001b[39m\"\u001b[39m\u001b[39mConvert your data to numeric values explicitly instead.\u001b[39m\u001b[39m\"\u001b[39m\n\u001b[0;32m    951\u001b[0m     )\n",
      "\u001b[1;31mValueError\u001b[0m: Expected 2D array, got 1D array instead:\narray=[ 0.9888386  -0.35559537  1.56495178  0.28660687 -0.80025479 -1.2318547\n -0.4165305   0.99070417  0.97230284  0.64573697].\nReshape your data either using array.reshape(-1, 1) if your data has a single feature or array.reshape(1, -1) if it contains a single sample."
     ]
    }
   ],
   "source": [
    "test_recs_v2(drake_sad, df, features, cosine_recs)"
   ]
  }
 ],
 "metadata": {
  "kernelspec": {
   "display_name": "venv",
   "language": "python",
   "name": "python3"
  },
  "language_info": {
   "codemirror_mode": {
    "name": "ipython",
    "version": 3
   },
   "file_extension": ".py",
   "mimetype": "text/x-python",
   "name": "python",
   "nbconvert_exporter": "python",
   "pygments_lexer": "ipython3",
   "version": "3.11.4"
  },
  "orig_nbformat": 4
 },
 "nbformat": 4,
 "nbformat_minor": 2
}
