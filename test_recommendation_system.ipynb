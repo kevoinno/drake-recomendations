{
 "cells": [
  {
   "cell_type": "code",
   "execution_count": 9,
   "metadata": {},
   "outputs": [],
   "source": [
    "# Import libaries\n",
    "import pandas as pd\n",
    "import numpy as np\n",
    "import spotipy\n",
    "from spotipy.oauth2 import SpotifyClientCredentials\n",
    "import creds\n",
    "from sklearn.metrics.pairwise import cosine_similarity\n",
    "from sklearn.preprocessing import StandardScaler\n",
    "from recommender_v2 import cosine_recs\n"
   ]
  },
  {
   "cell_type": "code",
   "execution_count": 10,
   "metadata": {},
   "outputs": [],
   "source": [
    "df = pd.read_csv('drake_songs_dataset.csv')\n",
    "drake_sad = pd.read_csv('playlist_1.csv')\n",
    "drake_hype = pd.read_csv('playlist_2.csv')\n",
    "drake_chill = pd.read_csv('playlist_3.csv')\n",
    "drake_romantic = pd.read_csv('playlist_4.csv')\n",
    "drake_party = pd.read_csv('playlist_5.csv')"
   ]
  },
  {
   "cell_type": "code",
   "execution_count": 11,
   "metadata": {},
   "outputs": [],
   "source": [
    "features = [\n",
    "        'danceability', 'energy', 'key', 'loudness',\n",
    "        'speechiness', 'acousticness', 'instrumentalness', \n",
    "        'liveness', 'valence', 'tempo'\n",
    "    ]"
   ]
  },
  {
   "cell_type": "code",
   "execution_count": 12,
   "metadata": {},
   "outputs": [],
   "source": [
    "def test_recs(sample_df, drake_df, features, model):\n",
    "    # Randomly sample songs that will be input songs\n",
    "    \n",
    "    sample = sample_df.sample(n = 5, replace = False, random_state = 42)\n",
    "\n",
    "    # Create output songs \n",
    "    recs = pd.DataFrame(columns = features)\n",
    "\n",
    "    # Iterate through input songs and generate predictions\n",
    "    for track in sample.iterrows():\n",
    "        recs = pd.concat([recs, model(drake_df, features, 5, track[1]['track_name'])])\n",
    "\n",
    "    # Get relevant columns and scale sample\n",
    "    sample_features = sample[features].copy()\n",
    "    scaler = StandardScaler()\n",
    "    sample_scaled = scaler.fit_transform(sample_features)\n",
    "\n",
    "    # Get relevant columsn and scale recs\n",
    "    recs_features = recs[features].copy()\n",
    "    recs_scaled = scaler.fit_transform(recs_features)\n",
    "\n",
    "    # Calculate cosine similiarity between input songs\n",
    "    input_input_matrix = cosine_similarity(sample_scaled, sample_scaled)\n",
    "\n",
    "    # Calculate cosine similarity between output songs\n",
    "    output_output_matrix = cosine_similarity(recs_scaled, recs_scaled)\n",
    "\n",
    "    # Calculate cosine similarity matrix between input and output songs\n",
    "    input_output_matrix = cosine_similarity(sample_scaled, recs_scaled)\n",
    "    \n",
    "    print(f\"Intra-set input mean cosine similarity score: {input_input_matrix.mean()}\")\n",
    "    print(f\"Intra-set output mean cosine similarity score: {output_output_matrix.mean()}\")\n",
    "    print(f\"Inter-set mean cosine similarity score: {input_output_matrix.mean()}\")\n",
    "    print()\n"
   ]
  },
  {
   "cell_type": "code",
   "execution_count": 13,
   "metadata": {},
   "outputs": [],
   "source": [
    "#mood_list = [drake_sad, drake_hype, drake_chill, drake_romantic, drake_party]\n",
    "\n",
    "#for mood in mood_list:\n",
    "    #test_recs(mood, df, features, cosine_recs)\n"
   ]
  },
  {
   "cell_type": "code",
   "execution_count": null,
   "metadata": {},
   "outputs": [],
   "source": []
  },
  {
   "cell_type": "code",
   "execution_count": 24,
   "metadata": {},
   "outputs": [],
   "source": [
    "def test_recs_v2(sample_df, drake_df, features, model):\n",
    "    # Randomly sample songs that will be input songs\n",
    "    \n",
    "    sample = sample_df.sample(n = 5, replace = False, random_state = 42)\n",
    "\n",
    "    # Get relevant columns and scale sample\n",
    "    sample_features = sample[features].copy()\n",
    "    scaler = StandardScaler()\n",
    "    sample_scaled = scaler.fit_transform(sample_features)\n",
    "    \n",
    "    # List to store average similarity between recommendations and their input song\n",
    "    avg_sim_scores = []\n",
    "    # Iterate through input songs and generate predictions\n",
    "    for i, track in enumerate(sample.iterrows()):\n",
    "        # Generate recommendations based on the ith sampled track\n",
    "        recs = model(drake_df, features, 5, track[1]['track_name'])\n",
    "        # Get relevant columsn and scale recs\n",
    "        recs_features = recs[features].copy()\n",
    "        recs_scaled = scaler.fit_transform(recs_features)\n",
    "        # Calculate cosine similarity matrix between input song and recs\n",
    "        cos_matrix = cosine_similarity(sample_scaled[i].reshape(1, -1), recs_scaled)\n",
    "        avg_sim_scores.append(cos_matrix.mean())\n",
    "    return sum(avg_sim_scores) / len(avg_sim_scores)\n",
    "\n",
    "\n",
    "    "
   ]
  },
  {
   "cell_type": "code",
   "execution_count": 25,
   "metadata": {},
   "outputs": [
    {
     "data": {
      "text/plain": [
       "0.0019364386774308"
      ]
     },
     "execution_count": 25,
     "metadata": {},
     "output_type": "execute_result"
    }
   ],
   "source": [
    "test_recs_v2(drake_sad, df, features, cosine_recs)"
   ]
  }
 ],
 "metadata": {
  "kernelspec": {
   "display_name": "venv",
   "language": "python",
   "name": "python3"
  },
  "language_info": {
   "codemirror_mode": {
    "name": "ipython",
    "version": 3
   },
   "file_extension": ".py",
   "mimetype": "text/x-python",
   "name": "python",
   "nbconvert_exporter": "python",
   "pygments_lexer": "ipython3",
   "version": "3.11.4"
  },
  "orig_nbformat": 4
 },
 "nbformat": 4,
 "nbformat_minor": 2
}
